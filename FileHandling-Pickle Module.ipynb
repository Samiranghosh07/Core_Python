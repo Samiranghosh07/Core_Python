{
 "cells": [
  {
   "cell_type": "markdown",
   "metadata": {
    "colab_type": "text",
    "id": "_KIT_uiKw7jh"
   },
   "source": [
    "# File handling\n",
    "A file is some information or data which stays in the computer storage devices. You already know about different kinds of file , like your music files, video files, text files. Python gives you easy ways to manipulate these files. Generally we divide files in two categories, text file and binary file. Text files are simple text where as the binary files contain binary data which is only readable by computer."
   ]
  },
  {
   "cell_type": "markdown",
   "metadata": {
    "colab_type": "text",
    "id": "5AHH6IROw7jk"
   },
   "source": [
    "File opening\n",
    "\n",
    "To open a file we use open() function. It requires two arguments, first the file path or file name, second which mode it should open. Modes are like\n",
    "\n",
    "    “r” -> open read only, you can read the file but can not edit / delete anything inside\n",
    "    “w” -> open with write power, means if the file exists then delete all content and open it to write\n",
    "    The default mode is read only, ie if you do not provide any mode it will open the file as read only. Let us open a file"
   ]
  },
  {
   "cell_type": "code",
   "execution_count": 1,
   "metadata": {
    "colab": {
     "autoexec": {
      "startup": false,
      "wait_interval": 0
     }
    },
    "colab_type": "code",
    "id": "mRimqUIBw7jm",
    "outputId": "d5b2fb7a-311a-4fe0-8d38-1575e4f91639"
   },
   "outputs": [
    {
     "name": "stdout",
     "output_type": "stream",
     "text": [
      "C:\\Users\\samiran\\Downloads\n"
     ]
    }
   ],
   "source": [
    "import os;\n",
    "print (os.getcwd())"
   ]
  },
  {
   "cell_type": "code",
   "execution_count": 0,
   "metadata": {
    "colab": {
     "autoexec": {
      "startup": false,
      "wait_interval": 0
     }
    },
    "colab_type": "code",
    "id": "eOHkSPSfw7jx"
   },
   "outputs": [],
   "source": [
    "f = open(\"fi1.txt\")    # open file in current directory\n",
    "#f = open(\"C:/users/ssdn/fi.txt\")  # specifying full path"
   ]
  },
  {
   "cell_type": "code",
   "execution_count": 0,
   "metadata": {
    "colab": {
     "autoexec": {
      "startup": false,
      "wait_interval": 0
     }
    },
    "colab_type": "code",
    "id": "QqO7JXlSw7j6",
    "outputId": "f546c63f-936b-43b0-80ad-173665863648"
   },
   "outputs": [
    {
     "data": {
      "text/plain": [
       "<_io.TextIOWrapper name='fi1.txt' mode='r' encoding='cp1252'>"
      ]
     },
     "execution_count": 2,
     "metadata": {
      "tags": []
     },
     "output_type": "execute_result"
    }
   ],
   "source": [
    "f"
   ]
  },
  {
   "cell_type": "markdown",
   "metadata": {
    "colab_type": "text",
    "id": "mP6UaS36w7kE"
   },
   "source": [
    "After opening a file one should always close the opened file. We use method close() for this."
   ]
  },
  {
   "cell_type": "code",
   "execution_count": 0,
   "metadata": {
    "colab": {
     "autoexec": {
      "startup": false,
      "wait_interval": 0
     }
    },
    "colab_type": "code",
    "id": "A8jeuQg2w7kG"
   },
   "outputs": [],
   "source": [
    "f.close()"
   ]
  },
  {
   "cell_type": "markdown",
   "metadata": {
    "colab_type": "text",
    "id": "E8v8xoElw7kM"
   },
   "source": [
    "Important\n",
    "\n",
    "Always make sure you explicitly close each open file, once its job is done and you have no reason to keep it open. Because - There is an upper limit to the number of files a program can open. If you exceed that limit, there is no reliable way of recovery, so the program could crash. - Each open file consumes some main-memory for the data-structures associated with it, like file descriptor/handle or file locks etc. So you could essentially end-up wasting lots of memory if you have more files open that are not useful or usable. - Open files always stand a chance of corruption and data loss."
   ]
  },
  {
   "cell_type": "markdown",
   "metadata": {
    "colab_type": "text",
    "id": "3uI5ZXZQw7kO"
   },
   "source": [
    "# Reading a file\n",
    "\n",
    "To read the whole file at once use the read() method."
   ]
  },
  {
   "cell_type": "code",
   "execution_count": 0,
   "metadata": {
    "colab": {
     "autoexec": {
      "startup": false,
      "wait_interval": 0
     }
    },
    "colab_type": "code",
    "id": "3WqyqHpYw7kR",
    "outputId": "ad960886-2b6d-406a-f560-6d8619c4fc66"
   },
   "outputs": [
    {
     "data": {
      "text/plain": [
       "'This is a text file for learning file handling in python.\\nThis is for intellipaat students fot the course data analytics using python\\ni love python and data science .\\ni also like to share my knowledge with data science aspirants.\\n'"
      ]
     },
     "execution_count": 3,
     "metadata": {
      "tags": []
     },
     "output_type": "execute_result"
    }
   ],
   "source": [
    "f = open(\"fi1.txt\")\n",
    "f.read()"
   ]
  },
  {
   "cell_type": "markdown",
   "metadata": {
    "colab_type": "text",
    "id": "pNwC_kAqw7kY"
   },
   "source": [
    "If you call read() again it will return empty string as it already read the whole file. readline() can help you to read one line each time from the file."
   ]
  },
  {
   "cell_type": "code",
   "execution_count": 0,
   "metadata": {
    "colab": {
     "autoexec": {
      "startup": false,
      "wait_interval": 0
     }
    },
    "colab_type": "code",
    "id": "tHkVol7Ww7ka",
    "outputId": "77d9a962-787b-4a65-a70a-4a75563e55e7"
   },
   "outputs": [
    {
     "data": {
      "text/plain": [
       "'This is for intellipaat students fot the course data analytics using python\\n'"
      ]
     },
     "execution_count": 4,
     "metadata": {
      "tags": []
     },
     "output_type": "execute_result"
    }
   ],
   "source": [
    "f= open(\"fi1.txt\")\n",
    "f.readline()\n",
    "f.readline()"
   ]
  },
  {
   "cell_type": "code",
   "execution_count": 0,
   "metadata": {
    "colab": {
     "autoexec": {
      "startup": false,
      "wait_interval": 0
     }
    },
    "colab_type": "code",
    "id": "ocyrdj8Qw7ki",
    "outputId": "899ef837-47d2-4608-f758-49b31110948c"
   },
   "outputs": [
    {
     "data": {
      "text/plain": [
       "'i love python and data science .\\n'"
      ]
     },
     "execution_count": 5,
     "metadata": {
      "tags": []
     },
     "output_type": "execute_result"
    }
   ],
   "source": [
    "f.readline()"
   ]
  },
  {
   "cell_type": "markdown",
   "metadata": {
    "colab_type": "text",
    "id": "sO7cTfkMw7kr"
   },
   "source": [
    "To read all the lines in a list we use readlines() method."
   ]
  },
  {
   "cell_type": "code",
   "execution_count": 0,
   "metadata": {
    "colab": {
     "autoexec": {
      "startup": false,
      "wait_interval": 0
     }
    },
    "colab_type": "code",
    "id": "SQ5W_psHw7ks",
    "outputId": "81479c47-9e95-4038-d309-86bd08f77622"
   },
   "outputs": [
    {
     "data": {
      "text/plain": [
       "['This is a text file for learning file handling in python.\\n',\n",
       " 'This is for intellipaat students fot the course data analytics using python\\n',\n",
       " 'i love python and data science .\\n',\n",
       " 'i also like to share my knowledge with data science aspirants.\\n']"
      ]
     },
     "execution_count": 42,
     "metadata": {
      "tags": []
     },
     "output_type": "execute_result"
    }
   ],
   "source": [
    "f= open(\"fi1.txt\")\n",
    "f.readlines()"
   ]
  },
  {
   "cell_type": "code",
   "execution_count": 0,
   "metadata": {
    "colab": {
     "autoexec": {
      "startup": false,
      "wait_interval": 0
     }
    },
    "colab_type": "code",
    "id": "uYpYrchXw7ky",
    "outputId": "4a36fe65-97fa-4ba3-8d83-77cdd4aff2a2"
   },
   "outputs": [
    {
     "data": {
      "text/plain": [
       "1"
      ]
     },
     "execution_count": 28,
     "metadata": {
      "tags": []
     },
     "output_type": "execute_result"
    }
   ],
   "source": [
    "#f.seek(1)#It sets the file's current position"
   ]
  },
  {
   "cell_type": "markdown",
   "metadata": {
    "colab_type": "text",
    "id": "JfZdeg_Vw7k9"
   },
   "source": [
    "You can even loop through the lines in a file object."
   ]
  },
  {
   "cell_type": "code",
   "execution_count": 0,
   "metadata": {
    "colab": {
     "autoexec": {
      "startup": false,
      "wait_interval": 0
     }
    },
    "colab_type": "code",
    "id": "4FO8WK1lw7k-",
    "outputId": "b9e55250-c239-4682-c320-8204e78961e9"
   },
   "outputs": [
    {
     "name": "stdout",
     "output_type": "stream",
     "text": [
      "This is a text file for learning file handling in python.\n",
      " This is for intellipaat students fot the course data analytics using python\n",
      " i love python and data science .\n",
      " i also like to share my knowledge with data science aspirants.\n",
      " "
     ]
    }
   ],
   "source": [
    "f = open(\"fi1.txt\")\n",
    "for x in f:\n",
    "    print(x, end=' ')\n"
   ]
  },
  {
   "cell_type": "markdown",
   "metadata": {
    "colab_type": "text",
    "id": "x5aP5Sihw7lE"
   },
   "source": [
    "# Using the with statement\n",
    "\n",
    "In real life scenarios we should try to use with statement. It will take care of closing the file for you."
   ]
  },
  {
   "cell_type": "code",
   "execution_count": 0,
   "metadata": {
    "colab": {
     "autoexec": {
      "startup": false,
      "wait_interval": 0
     }
    },
    "colab_type": "code",
    "id": "7uiaTUCdw7lG",
    "outputId": "79f23eb5-dcca-4c14-9801-1842f1537197"
   },
   "outputs": [
    {
     "name": "stdout",
     "output_type": "stream",
     "text": [
      "This is a text file for learning file handling in python.\n",
      "\n",
      "This is for intellipaat students fot the course data analytics using python\n",
      "\n",
      "i love python and data science .\n",
      "\n",
      "i also like to share my knowledge with data science aspirants.\n",
      "\n"
     ]
    }
   ],
   "source": [
    "with open('fi1.txt') as fobj:\n",
    "    for line in fobj:\n",
    "         print (line)"
   ]
  },
  {
   "cell_type": "markdown",
   "metadata": {
    "colab_type": "text",
    "id": "MAEe9wsPw7lN"
   },
   "source": [
    "# Writing in a file\n",
    "\n",
    "Let us open a file then we will write some random text into it by using the write() method."
   ]
  },
  {
   "cell_type": "code",
   "execution_count": 0,
   "metadata": {
    "colab": {
     "autoexec": {
      "startup": false,
      "wait_interval": 0
     }
    },
    "colab_type": "code",
    "id": "1wWng0nAw7lO"
   },
   "outputs": [],
   "source": [
    "fobj = open(\"fh.txt\", 'w')\n",
    "fobj.write('python\\n')\n",
    "fobj.write('machine learning\\n')\n",
    "fobj.write('deep learning\\n')\n",
    "fobj.write('data science')\n",
    "fobj.close()"
   ]
  },
  {
   "cell_type": "code",
   "execution_count": 0,
   "metadata": {
    "colab": {
     "autoexec": {
      "startup": false,
      "wait_interval": 0
     }
    },
    "colab_type": "code",
    "id": "chry-4Clw7oR",
    "outputId": "a22e9fea-bcbd-4054-f13a-abf9c91a70cf"
   },
   "outputs": [
    {
     "name": "stdout",
     "output_type": "stream",
     "text": [
      "python\n",
      "machine learning\n",
      "deep learning\n",
      "data science\n"
     ]
    }
   ],
   "source": [
    "#Now read the file we just created\n",
    "\n",
    "fobj = open('fh.txt')\n",
    "s = fobj.read()\n",
    "print(s)"
   ]
  },
  {
   "cell_type": "code",
   "execution_count": 0,
   "metadata": {
    "colab": {
     "autoexec": {
      "startup": false,
      "wait_interval": 0
     }
    },
    "colab_type": "code",
    "id": "NVkSZOK4w7oY",
    "outputId": "448c55ec-3c0d-4e00-fd5d-f07a132d1c64"
   },
   "outputs": [
    {
     "data": {
      "text/plain": [
       "53"
      ]
     },
     "execution_count": 9,
     "metadata": {
      "tags": []
     },
     "output_type": "execute_result"
    }
   ],
   "source": [
    "fobj.tell() #get to know the current position in the file"
   ]
  },
  {
   "cell_type": "code",
   "execution_count": 0,
   "metadata": {
    "colab": {
     "autoexec": {
      "startup": false,
      "wait_interval": 0
     }
    },
    "colab_type": "code",
    "id": "COJ5pwF3w7oj",
    "outputId": "e2ca6dab-b54a-4513-a9bc-a2b3298514b0"
   },
   "outputs": [
    {
     "data": {
      "text/plain": [
       "0"
      ]
     },
     "execution_count": 10,
     "metadata": {
      "tags": []
     },
     "output_type": "execute_result"
    }
   ],
   "source": [
    "fobj.seek(0) #to change the current position in a file"
   ]
  },
  {
   "cell_type": "markdown",
   "metadata": {
    "colab_type": "text",
    "id": "rKtjuuz8w7oy"
   },
   "source": [
    "# What is Pickle in python ?"
   ]
  },
  {
   "cell_type": "code",
   "execution_count": 0,
   "metadata": {
    "colab": {
     "autoexec": {
      "startup": false,
      "wait_interval": 0
     }
    },
    "colab_type": "code",
    "id": "bhV6V-TVw7o0"
   },
   "outputs": [],
   "source": []
  },
  {
   "cell_type": "markdown",
   "metadata": {
    "colab_type": "text",
    "id": "mHpjWAjTw7o6"
   },
   "source": [
    "It is used for serializing and de-serializing a Python object structure. Any object in python can be pickled so that it can be saved on disk. What pickle does is that it “serialises” the object first before writing it to file. Pickling is a way to convert a python object (list, dict, etc.) into a character stream. The idea is that this character stream contains all the information necessary to reconstruct the object in another python script.\n",
    "\n",
    "So lets continue:\n",
    "\n",
    "1. First of all you have to import it through this command:"
   ]
  },
  {
   "cell_type": "code",
   "execution_count": 0,
   "metadata": {
    "colab": {
     "autoexec": {
      "startup": false,
      "wait_interval": 0
     }
    },
    "colab_type": "code",
    "id": "Z9aECwf2w7o7"
   },
   "outputs": [],
   "source": [
    "import pickle"
   ]
  },
  {
   "cell_type": "markdown",
   "metadata": {
    "colab_type": "text",
    "id": "vS-7vg2fw7pC"
   },
   "source": [
    "pickle has two main methods. The first one is dump, which dumps an object to a file object and the second one is load, which loads an object from a file object.\n",
    "2. Prepare something to pickle:\n",
    "Now you just have to get some data which you can pickle. For the sake of simplicity i will be pickling a python list. So just read the below code and you will be able to figure it out yourself."
   ]
  },
  {
   "cell_type": "code",
   "execution_count": 0,
   "metadata": {
    "colab": {
     "autoexec": {
      "startup": false,
      "wait_interval": 0
     }
    },
    "colab_type": "code",
    "id": "UJWXWicPw7pE",
    "outputId": "de96acab-a271-4427-c99f-c6adb9fac3fc"
   },
   "outputs": [
    {
     "data": {
      "text/plain": [
       "['test value', 'test value 2', 'test value 3']"
      ]
     },
     "execution_count": 48,
     "metadata": {
      "tags": []
     },
     "output_type": "execute_result"
    }
   ],
   "source": [
    "import pickle\n",
    "\n",
    "a = ['test value','test value 2','test value 3']\n",
    "a"
   ]
  },
  {
   "cell_type": "code",
   "execution_count": 0,
   "metadata": {
    "colab": {
     "autoexec": {
      "startup": false,
      "wait_interval": 0
     }
    },
    "colab_type": "code",
    "id": "SqOLuzPnw7pK"
   },
   "outputs": [],
   "source": [
    "#file_Name = \"testfile\"\n",
    "# open the file for writing\n",
    "#fileObject = open(file_Name,'wb') "
   ]
  },
  {
   "cell_type": "code",
   "execution_count": 0,
   "metadata": {
    "colab": {
     "autoexec": {
      "startup": false,
      "wait_interval": 0
     }
    },
    "colab_type": "code",
    "id": "zcNkb-9nw7pR"
   },
   "outputs": [],
   "source": [
    "# this writes the object a to the\n",
    "# file named 'testfile'\n",
    "#pickle.dump(a,fileObject)   \n"
   ]
  },
  {
   "cell_type": "code",
   "execution_count": 0,
   "metadata": {
    "colab": {
     "autoexec": {
      "startup": false,
      "wait_interval": 0
     }
    },
    "colab_type": "code",
    "id": "8DQzBsZgw7pV"
   },
   "outputs": [],
   "source": [
    "# here we close the fileObject\n",
    "#fileObject.close()\n",
    "# we open the file for reading\n",
    "#fileObject = open(file_Name,'r')  \n",
    "# load the object from the file into var b\n",
    "#b = pickle.load(fileObject)  \n",
    "#b"
   ]
  },
  {
   "cell_type": "code",
   "execution_count": 0,
   "metadata": {
    "colab": {
     "autoexec": {
      "startup": false,
      "wait_interval": 0
     }
    },
    "colab_type": "code",
    "id": "Ij0kLbhVw7pa"
   },
   "outputs": [],
   "source": [
    "cities = [\"Paris\", \"New Delhi\", \"Mumbai\", \"Surat\"]\n",
    "fh = open(\"data.pkl\", \"bw\")\n",
    "pickle.dump(cities, fh)\n",
    "fh.close()\n",
    "\n",
    "#f = open(\"data.pkl\", \"rb\")\n",
    "#villes = pickle.load(f)\n",
    "#print(villes)\n",
    "#f.close()"
   ]
  },
  {
   "cell_type": "code",
   "execution_count": 0,
   "metadata": {
    "colab": {
     "autoexec": {
      "startup": false,
      "wait_interval": 0
     }
    },
    "colab_type": "code",
    "id": "m9kmjnRFw7pk",
    "outputId": "e21705f5-aac7-4e09-fab9-c7b53e1616c2"
   },
   "outputs": [
    {
     "name": "stdout",
     "output_type": "stream",
     "text": [
      "['Paris', 'New Delhi', 'Mumbai', 'Surat']\n"
     ]
    }
   ],
   "source": [
    "f = open(\"data.pkl\", \"rb\")\n",
    "villes = pickle.load(f)\n",
    "print(villes)\n",
    "f.close()"
   ]
  },
  {
   "cell_type": "code",
   "execution_count": 0,
   "metadata": {
    "colab": {
     "autoexec": {
      "startup": false,
      "wait_interval": 0
     }
    },
    "colab_type": "code",
    "id": "7ae38asdw7px",
    "outputId": "34444a4d-39b6-40ed-a9b8-365fb5d78488"
   },
   "outputs": [
    {
     "data": {
      "text/plain": [
       "4"
      ]
     },
     "execution_count": 14,
     "metadata": {
      "tags": []
     },
     "output_type": "execute_result"
    }
   ],
   "source": [
    "pickle.HIGHEST_PROTOCOL"
   ]
  },
  {
   "cell_type": "code",
   "execution_count": 0,
   "metadata": {
    "colab": {
     "autoexec": {
      "startup": false,
      "wait_interval": 0
     }
    },
    "colab_type": "code",
    "id": "LKkYyiDKw7p3"
   },
   "outputs": [],
   "source": [
    "The above code is self explanatory. It shows you how to import the pickled object and assign it to a variable. So now we need to know where we should use pickling. It is very useful when you want to dump some object while coding in the python shell. So after dumping whenever you restart the python shell you can import the pickled object and deserialize it."
   ]
  },
  {
   "cell_type": "markdown",
   "metadata": {
    "colab_type": "text",
    "id": "zvRWRPm2w7qC"
   },
   "source": [
    "#pickle is for serializing some object (or objects) as a single bytestream in a file.\n",
    "\n",
    "shelve builds on top of pickle and implements a serialization dictionary where objects are pickled, but associated with a key (some string), so you can load your shelved data file and access your pickled objects via keys. This could be more convenient were you to be serializing many objects."
   ]
  },
  {
   "cell_type": "code",
   "execution_count": 0,
   "metadata": {
    "colab": {
     "autoexec": {
      "startup": false,
      "wait_interval": 0
     }
    },
    "colab_type": "code",
    "id": "BBRJTkrkw7qD",
    "outputId": "b9621884-0bb1-466a-a425-d834498f0e7b"
   },
   "outputs": [
    {
     "name": "stdout",
     "output_type": "stream",
     "text": [
      "street\n",
      "city\n",
      "Main Road\n",
      "New Delhi\n"
     ]
    }
   ],
   "source": [
    "import shelve\n",
    "s = shelve.open(\"MyShelve\")\n",
    "s[\"street\"] = \"Main Road\"\n",
    "s[\"city\"] = \"New Delhi\"\n",
    "for key in s:\n",
    "    print(key)\n",
    "s.close()\n",
    "\n",
    "\n",
    "s = shelve.open(\"MyShelve\")\n",
    "print(s[\"street\"])\n",
    "print(s[\"city\"])\n",
    "s.close()\n"
   ]
  },
  {
   "cell_type": "code",
   "execution_count": 0,
   "metadata": {
    "colab": {
     "autoexec": {
      "startup": false,
      "wait_interval": 0
     }
    },
    "colab_type": "code",
    "id": "OvltV23lw7qM"
   },
   "outputs": [],
   "source": [
    "import shelve\n",
    "\n",
    "integers = [1, 2, 3, 4, 5]\n",
    "\n",
    "# If you're using Python 2.7, import contextlib and use\n",
    "# the line:\n",
    "# with contextlib.closing(shelve.open('shelf-example', 'c')) as shelf:\n",
    "with shelve.open('shelf-example', 'c') as shelf:\n",
    "    shelf['ints'] = integers"
   ]
  },
  {
   "cell_type": "code",
   "execution_count": 0,
   "metadata": {
    "colab": {
     "autoexec": {
      "startup": false,
      "wait_interval": 0
     }
    },
    "colab_type": "code",
    "id": "0W0d-j62w7qR",
    "outputId": "46161da2-b92b-4115-fb15-876479ef2be6"
   },
   "outputs": [
    {
     "name": "stdout",
     "output_type": "stream",
     "text": [
      "(\"'ints'\", '[1, 2, 3, 4, 5]')\n"
     ]
    }
   ],
   "source": [
    "import shelve\n",
    "\n",
    "# If you're using Python 2.7, import contextlib and use\n",
    "# the line:\n",
    "# with contextlib.closing(shelve.open('shelf-example', 'r')) as shelf:\n",
    "with shelve.open('shelf-example', 'r') as shelf:\n",
    "    for key in shelf.keys():\n",
    "        print((repr(key), repr(shelf[key])))"
   ]
  },
  {
   "cell_type": "code",
   "execution_count": 0,
   "metadata": {
    "colab": {
     "autoexec": {
      "startup": false,
      "wait_interval": 0
     }
    },
    "colab_type": "code",
    "id": "bTDTK0oEw7qX"
   },
   "outputs": [],
   "source": []
  }
 ],
 "metadata": {
  "colab": {
   "default_view": {},
   "name": "FileHandling-checkpoint.ipynb",
   "provenance": [],
   "version": "0.3.2",
   "views": {}
  },
  "kernelspec": {
   "display_name": "Python 3",
   "language": "python",
   "name": "python3"
  },
  "language_info": {
   "codemirror_mode": {
    "name": "ipython",
    "version": 3
   },
   "file_extension": ".py",
   "mimetype": "text/x-python",
   "name": "python",
   "nbconvert_exporter": "python",
   "pygments_lexer": "ipython3",
   "version": "3.9.2"
  }
 },
 "nbformat": 4,
 "nbformat_minor": 1
}
