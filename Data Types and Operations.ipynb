{
 "cells": [
  {
   "cell_type": "markdown",
   "metadata": {},
   "source": [
    "# Python DataTypes and Operations\n",
    "#Dated : 12th May,2020\n",
    "#Created by : Samiran Ghosh"
   ]
  },
  {
   "cell_type": "code",
   "execution_count": 3,
   "metadata": {},
   "outputs": [
    {
     "name": "stdout",
     "output_type": "stream",
     "text": [
      "enter radius of a circle :: 45.23\n",
      "Area of circle ::  6426.9222817000145\n"
     ]
    }
   ],
   "source": [
    "#1 -->radius of a circle\n",
    "\n",
    "from math import pi\n",
    "r=float(input(\"enter radius of a circle :: \"))\n",
    "Area_of_Circle = (pi * r * r)\n",
    "print(\"Area of circle :: \", Area_of_Circle)"
   ]
  },
  {
   "cell_type": "code",
   "execution_count": 5,
   "metadata": {},
   "outputs": [
    {
     "name": "stdout",
     "output_type": "stream",
     "text": [
      "enter first no :: 123\n",
      "enter second no :: 456\n",
      "enter third no :: -12\n",
      "Biggest of three numbers is ::  456\n"
     ]
    }
   ],
   "source": [
    "#2 --> biggest of three numbers\n",
    "\n",
    "n1=int(input(\"enter first no :: \"))\n",
    "n2=int(input(\"enter second no :: \"))\n",
    "n3=int(input(\"enter third no :: \"))\n",
    "\n",
    "result= max(n1,n2,n3)\n",
    "print(\"Biggest of three numbers is :: \",result)"
   ]
  },
  {
   "cell_type": "code",
   "execution_count": 37,
   "metadata": {},
   "outputs": [
    {
     "name": "stdout",
     "output_type": "stream",
     "text": [
      "enter sequence of comma separated numbers :: 1,2,3,4,5\n",
      "['1', '2', '3', '4', '5']\n"
     ]
    }
   ],
   "source": [
    "#3 \n",
    "str=input(\"enter sequence of comma separated numbers :: \")\n",
    "list=str.split(\",\")\n",
    "print(list)\n",
    "# tuple=tuple(map(list,str))\n",
    "# print(tuple)"
   ]
  },
  {
   "cell_type": "code",
   "execution_count": 36,
   "metadata": {},
   "outputs": [
    {
     "name": "stdout",
     "output_type": "stream",
     "text": [
      "enter specified file name :: askjdhasjkdhjk.doc\n",
      "entension of the file is ::  ['doc']\n"
     ]
    }
   ],
   "source": [
    "#4\n",
    "f_name = input(\"enter specified file name :: \")\n",
    "f_ext = f_name.split('.')\n",
    "print(\"entension of the file is :: \", f_ext[-1:])"
   ]
  },
  {
   "cell_type": "code",
   "execution_count": 38,
   "metadata": {},
   "outputs": [
    {
     "name": "stdout",
     "output_type": "stream",
     "text": [
      "enter the list of colors with comma separatedred,magenta,orange,black,white,blue,sky,violet,green\n",
      "First color of the list ::  red\n",
      "Last color of the list ::  green\n"
     ]
    }
   ],
   "source": [
    "#5\n",
    "color = input(\"enter the list of colors with comma separated :: \")\n",
    "new_list = color.split(',')\n",
    "print(\"First color of the list :: \", new_list[0])\n",
    "print(\"Last color of the list :: \", new_list[-1])"
   ]
  },
  {
   "cell_type": "code",
   "execution_count": 45,
   "metadata": {},
   "outputs": [
    {
     "name": "stdout",
     "output_type": "stream",
     "text": [
      "enter a no2\n",
      "2 22 222\n"
     ]
    }
   ],
   "source": [
    "#6\n",
    "n=int(input(\"enter a no\"))\n",
    "n1 = int(\"%s\" % n)\n",
    "n2 = int(\"%s%s\" % (n,n))\n",
    "n3 = int(\"%s%s%s\" % (n,n,n))\n",
    "print(n1,n2,n3)"
   ]
  },
  {
   "cell_type": "code",
   "execution_count": 49,
   "metadata": {},
   "outputs": [
    {
     "name": "stdout",
     "output_type": "stream",
     "text": [
      "enter color list1red,green,blue\n",
      "enter color list2yellow,violet,magenta\n",
      "{'red', 'blue', 'green'}\n"
     ]
    }
   ],
   "source": [
    "#7\n",
    "color_list_1 = input(\"enter color list1\")\n",
    "color_list_2 = input(\"enter color list2\")\n",
    "c1=set(color_list_1.split(','))\n",
    "c2=set(color_list_2.split(','))\n",
    "c3=c1.difference(c2)\n",
    "print(c3)"
   ]
  },
  {
   "cell_type": "code",
   "execution_count": 51,
   "metadata": {},
   "outputs": [
    {
     "name": "stdout",
     "output_type": "stream",
     "text": [
      "enter a string :: onion\n",
      "oni$n\n"
     ]
    }
   ],
   "source": [
    "#8\n",
    "str1=input(\"enter a string :: \")\n",
    "char=str1[0]\n",
    "str1 = str1.replace(char,'$')\n",
    "str1= char + str1[1:]\n",
    "print(str1)"
   ]
  },
  {
   "cell_type": "code",
   "execution_count": 60,
   "metadata": {},
   "outputs": [
    {
     "name": "stdout",
     "output_type": "stream",
     "text": [
      "enter first string :: python\n",
      "enter second string :: programming\n",
      "prthonpyogramming\n"
     ]
    }
   ],
   "source": [
    "#9\n",
    "s1=input(\"enter first string :: \")\n",
    "s2=input(\"enter second string :: \")\n",
    "\n",
    "s3= s2[:2] + s1[2:]\n",
    "s4 = s1[:2] + s2[2:]\n",
    "\n",
    "z=s3 + s4\n",
    "print(z)"
   ]
  },
  {
   "cell_type": "code",
   "execution_count": 76,
   "metadata": {},
   "outputs": [
    {
     "name": "stdout",
     "output_type": "stream",
     "text": [
      "enter a stringhello world\n"
     ]
    },
    {
     "data": {
      "text/plain": [
       "'HELLO WORLD'"
      ]
     },
     "execution_count": 76,
     "metadata": {},
     "output_type": "execute_result"
    }
   ],
   "source": [
    "#10\n",
    "str1=input(\"enter a string\")\n",
    "r1=str1.swapcase()\n",
    "r1"
   ]
  },
  {
   "cell_type": "code",
   "execution_count": 78,
   "metadata": {},
   "outputs": [
    {
     "name": "stdout",
     "output_type": "stream",
     "text": [
      "enter a stringpython\n"
     ]
    }
   ],
   "source": [
    "#11\n",
    "str1=input(\"enter a string\")\n",
    "lc=str1.lower()\n",
    "uc=str1.upper()"
   ]
  },
  {
   "cell_type": "code",
   "execution_count": 79,
   "metadata": {},
   "outputs": [
    {
     "data": {
      "text/plain": [
       "'python'"
      ]
     },
     "execution_count": 79,
     "metadata": {},
     "output_type": "execute_result"
    }
   ],
   "source": [
    "lc"
   ]
  },
  {
   "cell_type": "code",
   "execution_count": 80,
   "metadata": {},
   "outputs": [
    {
     "data": {
      "text/plain": [
       "'PYTHON'"
      ]
     },
     "execution_count": 80,
     "metadata": {},
     "output_type": "execute_result"
    }
   ],
   "source": [
    "uc"
   ]
  },
  {
   "cell_type": "code",
   "execution_count": 81,
   "metadata": {},
   "outputs": [],
   "source": [
    "#12 -->Largest no from a list\n",
    "list1=[10,20,56,89,456,23,78,42,13,5]\n",
    "\n",
    "lar_list = max(list1)"
   ]
  },
  {
   "cell_type": "code",
   "execution_count": 82,
   "metadata": {},
   "outputs": [
    {
     "data": {
      "text/plain": [
       "456"
      ]
     },
     "execution_count": 82,
     "metadata": {},
     "output_type": "execute_result"
    }
   ],
   "source": [
    "lar_list"
   ]
  },
  {
   "cell_type": "code",
   "execution_count": 83,
   "metadata": {},
   "outputs": [
    {
     "data": {
      "text/plain": [
       "['hello', 123, 45.56, 'deadly', 'virus']"
      ]
     },
     "execution_count": 83,
     "metadata": {},
     "output_type": "execute_result"
    }
   ],
   "source": [
    "#13\n",
    "list1=[\"hello\",123,45.56,\"deadly\",\"virus\"]\n",
    "clone_list = list1.copy()\n",
    "clone_list"
   ]
  },
  {
   "cell_type": "code",
   "execution_count": 169,
   "metadata": {},
   "outputs": [
    {
     "name": "stdout",
     "output_type": "stream",
     "text": [
      "enter list item with comma separatedcat bat sat\n"
     ]
    },
    {
     "ename": "ValueError",
     "evalue": "empty separator",
     "output_type": "error",
     "traceback": [
      "\u001b[1;31m---------------------------------------------------------------------------\u001b[0m",
      "\u001b[1;31mValueError\u001b[0m                                Traceback (most recent call last)",
      "\u001b[1;32m<ipython-input-169-669f0a7ea555>\u001b[0m in \u001b[0;36m<module>\u001b[1;34m\u001b[0m\n\u001b[0;32m      2\u001b[0m \u001b[1;32mfrom\u001b[0m \u001b[0mrandom\u001b[0m \u001b[1;32mimport\u001b[0m \u001b[0mshuffle\u001b[0m\u001b[1;33m\u001b[0m\u001b[1;33m\u001b[0m\u001b[0m\n\u001b[0;32m      3\u001b[0m \u001b[0ml\u001b[0m\u001b[1;33m=\u001b[0m\u001b[0minput\u001b[0m\u001b[1;33m(\u001b[0m\u001b[1;34m\"enter list item with comma separated\"\u001b[0m\u001b[1;33m)\u001b[0m\u001b[1;33m\u001b[0m\u001b[1;33m\u001b[0m\u001b[0m\n\u001b[1;32m----> 4\u001b[1;33m \u001b[0mnew\u001b[0m\u001b[1;33m=\u001b[0m\u001b[0mlist\u001b[0m\u001b[1;33m(\u001b[0m\u001b[0ml\u001b[0m\u001b[1;33m.\u001b[0m\u001b[0msplit\u001b[0m\u001b[1;33m(\u001b[0m\u001b[1;34m''\u001b[0m\u001b[1;33m)\u001b[0m\u001b[1;33m)\u001b[0m\u001b[1;33m\u001b[0m\u001b[1;33m\u001b[0m\u001b[0m\n\u001b[0m\u001b[0;32m      5\u001b[0m \u001b[0mshuffle\u001b[0m\u001b[1;33m(\u001b[0m\u001b[0mnew\u001b[0m\u001b[1;33m)\u001b[0m\u001b[1;33m\u001b[0m\u001b[1;33m\u001b[0m\u001b[0m\n",
      "\u001b[1;31mValueError\u001b[0m: empty separator"
     ]
    }
   ],
   "source": [
    "#14\n",
    "from random import shuffle\n",
    "l=input(\"enter list item with comma separated\")\n",
    "new=list(l.split(''))\n",
    "shuffle(new)"
   ]
  },
  {
   "cell_type": "code",
   "execution_count": 163,
   "metadata": {},
   "outputs": [
    {
     "name": "stdout",
     "output_type": "stream",
     "text": [
      "{1: 2, 2: 3, 3: 4}\n",
      "{1: 2, 2: 3, 3: 4, 44: 55}\n"
     ]
    }
   ],
   "source": [
    "#15\n",
    "d={1:2,2:3,3:4}\n",
    "print(d)\n",
    "d.update({44:55})\n",
    "print(d)"
   ]
  },
  {
   "cell_type": "code",
   "execution_count": 168,
   "metadata": {},
   "outputs": [
    {
     "name": "stdout",
     "output_type": "stream",
     "text": [
      "{1: 2, 2: 3, 3: 4, 22: 33, 33: 44, 55: 56}\n"
     ]
    }
   ],
   "source": [
    "#16\n",
    "d1={1:2,2:3,3:4}\n",
    "d2={22:33,33:44,55:56}\n",
    "d=d1.copy()\n",
    "d.update(d2)\n",
    "print(d)"
   ]
  },
  {
   "cell_type": "code",
   "execution_count": null,
   "metadata": {},
   "outputs": [],
   "source": []
  }
 ],
 "metadata": {
  "kernelspec": {
   "display_name": "Python 3",
   "language": "python",
   "name": "python3"
  },
  "language_info": {
   "codemirror_mode": {
    "name": "ipython",
    "version": 3
   },
   "file_extension": ".py",
   "mimetype": "text/x-python",
   "name": "python",
   "nbconvert_exporter": "python",
   "pygments_lexer": "ipython3",
   "version": "3.7.4"
  }
 },
 "nbformat": 4,
 "nbformat_minor": 2
}
